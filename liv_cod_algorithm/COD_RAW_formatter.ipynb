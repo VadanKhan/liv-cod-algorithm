{
 "cells": [
  {
   "cell_type": "code",
   "execution_count": 2,
   "metadata": {},
   "outputs": [],
   "source": [
    "import pandas as pd\n",
    "import os\n",
    "import tkinter as tk\n",
    "from tkinter import filedialog"
   ]
  },
  {
   "cell_type": "code",
   "execution_count": 26,
   "metadata": {},
   "outputs": [
    {
     "name": "stdout",
     "output_type": "stream",
     "text": [
      "Directory : C:/Users/762093/Documents/LIV/liv_raw/LIV_Raw_Files\n"
     ]
    }
   ],
   "source": [
    "# Search for LIV Raw File\n",
    "root = tk.Tk()\n",
    "root.withdraw()\n",
    "root.lift()\n",
    "root.attributes(\"-topmost\", True)\n",
    "file_path = filedialog.askopenfilename(title=\"Select COD File\", filetypes=((\"csv files\", \"*.csv\"),))\n",
    "df = pd.read_csv(file_path, skiprows=19)\n",
    "folder = os.path.dirname(file_path)\n",
    "print(\"Directory : {}\".format(folder))"
   ]
  },
  {
   "cell_type": "markdown",
   "metadata": {},
   "source": [
    "HALO Decoder"
   ]
  },
  {
   "cell_type": "code",
   "execution_count": 27,
   "metadata": {},
   "outputs": [
    {
     "name": "stdout",
     "output_type": "stream",
     "text": [
      "    TOUCHDOWN  STX_WAFER_X_UM  STX_WAFER_Y_UM  CUBE  CHANNEL_NUM       Vf1  \\\n",
      "0           1          -32339          -48416    64            1  1.366367   \n",
      "1           2          -32083          -48449    64            1  1.366444   \n",
      "2           3          -31826          -48482    64            1  1.366831   \n",
      "3           4          -31569          -48416    64            1  1.366792   \n",
      "4           5          -31313          -48449    64            1  1.367333   \n",
      "5           6          -31056          -48482    64            1  1.367488   \n",
      "6           7          -30799          -48416    64            1  1.367449   \n",
      "7           8          -30543          -48449    64            1  4.999843   \n",
      "8           9          -30286          -48482    64            1  1.367642   \n",
      "9          10          -30029          -48416    64            1  4.999689   \n",
      "10         11          -29773          -48449    64            1  5.000114   \n",
      "11         12          -29516          -48482    64            1  4.999689   \n",
      "12         13          -29259          -48416    64            1  4.999959   \n",
      "13         14          -29003          -48449    64            1  1.521621   \n",
      "14         15          -28746          -48482    64            1  4.999457   \n",
      "15         16          -28489          -48416    64            1  4.999496   \n",
      "16         17          -28233          -48449    64            1  4.999496   \n",
      "17         18          -27976          -48482    64            1  4.999534   \n",
      "18         19          -27719          -48416    64            1  4.999496   \n",
      "19         20          -27463          -48449    64            1  4.999496   \n",
      "\n",
      "         Vf2       Vf3       Vf4       Vf5  ...  Spectral_Bandwidth@35mA  \\\n",
      "0   1.430014  1.463484  1.487101  1.506158  ...                 0.474273   \n",
      "1   1.430092  1.463639  1.487294  1.506274  ...                 0.384216   \n",
      "2   1.430362  1.463755  1.487371  1.506390  ...                 0.457858   \n",
      "3   1.430362  1.463793  1.487410  1.506390  ...                 0.433311   \n",
      "4   1.430710  1.464102  1.487680  1.506583  ...                 0.451487   \n",
      "5   1.430864  1.464180  1.487873  1.506892  ...                 0.407298   \n",
      "6   1.431019  4.997386  1.488105  1.506776  ...                 0.436778   \n",
      "7   1.431212  2.220048  4.995964  4.994736  ...                 0.403577   \n",
      "8   1.430980  5.004032  4.995887  1.507356  ...                 0.420117   \n",
      "9   4.998344  1.464102  1.692818  4.994736  ...                 0.000000   \n",
      "10  4.998267  4.997038  4.995810  4.994658  ...                 0.000000   \n",
      "11  4.998306  4.425674  4.995887  4.994697  ...                 0.000000   \n",
      "12  4.998267  4.997425  4.995926  4.994697  ...                 0.000000   \n",
      "13  4.998422  4.997077  4.995964  4.994697  ...                 0.000000   \n",
      "14  4.998228  4.997077  4.995887  4.994658  ...                 0.000000   \n",
      "15  4.998306  4.997077  4.995887  4.994697  ...                 0.000000   \n",
      "16  4.998267  4.997116  4.995887  4.994697  ...                 0.000000   \n",
      "17  4.998267  4.997116  4.995887  4.994697  ...                 0.000000   \n",
      "18  4.998306  4.997077  4.995887  4.994697  ...                 0.000000   \n",
      "19  4.998228  4.997077  4.995887  4.994697  ...                 0.000000   \n",
      "\n",
      "    Peak_Intensity@35mA  Exposure  Leakage_current  Reverse_voltage  TOOL_BIN  \\\n",
      "0           7409.473684       1.5             9999             9999         1   \n",
      "1          12586.105263       1.5             9999             9999         1   \n",
      "2           8674.657895       1.5             9999             9999         1   \n",
      "3          10883.763158       1.5             9999             9999         1   \n",
      "4          11451.789474       1.5             9999             9999         1   \n",
      "5           9614.052632       1.5             9999             9999         1   \n",
      "6           7605.184211       1.5             9999             9999         1   \n",
      "7          10918.184211       1.5             9999             9999         1   \n",
      "8           7757.657895       1.5             9999             9999         1   \n",
      "9            229.789474       1.5             9999             9999         1   \n",
      "10           246.289474       1.5             9999             9999         1   \n",
      "11           263.105263       1.5             9999             9999         1   \n",
      "12           222.157895       1.5             9999             9999         1   \n",
      "13           243.394737       1.5             9999             9999         1   \n",
      "14           229.210526       1.5             9999             9999         1   \n",
      "15           239.078947       1.5             9999             9999         1   \n",
      "16           233.236842       1.5             9999             9999         1   \n",
      "17           239.921053       1.5             9999             9999         1   \n",
      "18           262.184211       1.5             9999             9999         1   \n",
      "19           249.052632       1.5             9999             9999         1   \n",
      "\n",
      "      RX    RY       X      Y  \n",
      "0   9999  9999 -113959 -41999  \n",
      "1   9999  9999 -113189 -41999  \n",
      "2   9999  9999 -112419 -41999  \n",
      "3   9999  9999 -111649 -41999  \n",
      "4   9999  9999 -110879 -41999  \n",
      "5   9999  9999 -110109 -41999  \n",
      "6   9999  9999 -109339 -41999  \n",
      "7   9999  9999 -108569 -41999  \n",
      "8   9999  9999 -107799 -41999  \n",
      "9   9999  9999 -107029 -41999  \n",
      "10  9999  9999 -106259 -41999  \n",
      "11  9999  9999 -105489 -41999  \n",
      "12  9999  9999 -104719 -41999  \n",
      "13  9999  9999 -103949 -41999  \n",
      "14  9999  9999 -103179 -41999  \n",
      "15  9999  9999 -102409 -41999  \n",
      "16  9999  9999 -101639 -41999  \n",
      "17  9999  9999 -100869 -41999  \n",
      "18  9999  9999 -100099 -41999  \n",
      "19  9999  9999  -99329 -41999  \n",
      "\n",
      "[20 rows x 160 columns]\n"
     ]
    }
   ],
   "source": [
    "sd = df\n",
    "# print(sd.head(20))"
   ]
  },
  {
   "cell_type": "code",
   "execution_count": 6,
   "metadata": {},
   "outputs": [],
   "source": [
    "cols = list(df.columns)"
   ]
  },
  {
   "cell_type": "code",
   "execution_count": 7,
   "metadata": {},
   "outputs": [],
   "source": [
    "# Use list comprehension to filter values starting with \"PD\"\n",
    "# The startswith() method returns True if a string starts with the specified prefix(string).\n",
    "filtered_list = [item for item in cols if item.startswith(\"PD\")]\n",
    "filtered_list.remove(\"PD@35mA\")"
   ]
  },
  {
   "cell_type": "code",
   "execution_count": 8,
   "metadata": {},
   "outputs": [],
   "source": [
    "# Step 1: Extract numbers from the strings and convert them to integers\n",
    "numbers = [int(item[2:]) for item in filtered_list]\n",
    "# Step 2: Find the maximum number in the list\n",
    "sweep_len = max(numbers)\n",
    "# 5 starter columns + sweep length *2\n",
    "pd_max = sweep_len * 2 + 5"
   ]
  },
  {
   "cell_type": "code",
   "execution_count": 9,
   "metadata": {},
   "outputs": [
    {
     "data": {
      "text/plain": [
       "'PD70'"
      ]
     },
     "execution_count": 9,
     "metadata": {},
     "output_type": "execute_result"
    }
   ],
   "source": [
    "# non_sweep_data = df.iloc[:,pd_max:]\n",
    "df = df.iloc[:, :pd_max]\n",
    "cols = list(df.columns)\n",
    "cols[-1]"
   ]
  },
  {
   "cell_type": "code",
   "execution_count": 10,
   "metadata": {},
   "outputs": [],
   "source": [
    "# Keep the first five columns the same, transpose the rest of the columns with the new col metric being the headers\n",
    "# and value being the col values\n",
    "df = df.melt(\n",
    "    id_vars=[\"TOUCHDOWN\", \"STX_WAFER_X_UM\", \"STX_WAFER_Y_UM\", \"CUBE\", \"CHANNEL_NUM\"],\n",
    "    var_name=\"METRIC\",\n",
    ")"
   ]
  },
  {
   "cell_type": "code",
   "execution_count": 12,
   "metadata": {},
   "outputs": [
    {
     "ename": "KeyError",
     "evalue": "'METRIC'",
     "output_type": "error",
     "traceback": [
      "\u001b[1;31m---------------------------------------------------------------------------\u001b[0m",
      "\u001b[1;31mKeyError\u001b[0m                                  Traceback (most recent call last)",
      "File \u001b[1;32mc:\\Users\\762093\\Documents\\LIV\\liv_raw\\.venv\\Lib\\site-packages\\pandas\\core\\indexes\\base.py:3805\u001b[0m, in \u001b[0;36mIndex.get_loc\u001b[1;34m(self, key)\u001b[0m\n\u001b[0;32m   3804\u001b[0m \u001b[38;5;28;01mtry\u001b[39;00m:\n\u001b[1;32m-> 3805\u001b[0m     \u001b[38;5;28;01mreturn\u001b[39;00m \u001b[38;5;28;43mself\u001b[39;49m\u001b[38;5;241;43m.\u001b[39;49m\u001b[43m_engine\u001b[49m\u001b[38;5;241;43m.\u001b[39;49m\u001b[43mget_loc\u001b[49m\u001b[43m(\u001b[49m\u001b[43mcasted_key\u001b[49m\u001b[43m)\u001b[49m\n\u001b[0;32m   3806\u001b[0m \u001b[38;5;28;01mexcept\u001b[39;00m \u001b[38;5;167;01mKeyError\u001b[39;00m \u001b[38;5;28;01mas\u001b[39;00m err:\n",
      "File \u001b[1;32mindex.pyx:167\u001b[0m, in \u001b[0;36mpandas._libs.index.IndexEngine.get_loc\u001b[1;34m()\u001b[0m\n",
      "File \u001b[1;32mindex.pyx:196\u001b[0m, in \u001b[0;36mpandas._libs.index.IndexEngine.get_loc\u001b[1;34m()\u001b[0m\n",
      "File \u001b[1;32mpandas\\\\_libs\\\\hashtable_class_helper.pxi:7081\u001b[0m, in \u001b[0;36mpandas._libs.hashtable.PyObjectHashTable.get_item\u001b[1;34m()\u001b[0m\n",
      "File \u001b[1;32mpandas\\\\_libs\\\\hashtable_class_helper.pxi:7089\u001b[0m, in \u001b[0;36mpandas._libs.hashtable.PyObjectHashTable.get_item\u001b[1;34m()\u001b[0m\n",
      "\u001b[1;31mKeyError\u001b[0m: 'METRIC'",
      "\nThe above exception was the direct cause of the following exception:\n",
      "\u001b[1;31mKeyError\u001b[0m                                  Traceback (most recent call last)",
      "Cell \u001b[1;32mIn[12], line 2\u001b[0m\n\u001b[0;32m      1\u001b[0m \u001b[38;5;66;03m# Splitting the Metric column into two cols based on the first two characters\u001b[39;00m\n\u001b[1;32m----> 2\u001b[0m df[\u001b[38;5;124m\"\u001b[39m\u001b[38;5;124mMEASUREMENT\u001b[39m\u001b[38;5;124m\"\u001b[39m] \u001b[38;5;241m=\u001b[39m \u001b[43mdf\u001b[49m\u001b[43m[\u001b[49m\u001b[38;5;124;43m\"\u001b[39;49m\u001b[38;5;124;43mMETRIC\u001b[39;49m\u001b[38;5;124;43m\"\u001b[39;49m\u001b[43m]\u001b[49m\u001b[38;5;241m.\u001b[39mstr[:\u001b[38;5;241m2\u001b[39m]\n\u001b[0;32m      3\u001b[0m df[\u001b[38;5;124m\"\u001b[39m\u001b[38;5;124mCURRENT_MA\u001b[39m\u001b[38;5;124m\"\u001b[39m] \u001b[38;5;241m=\u001b[39m df[\u001b[38;5;124m\"\u001b[39m\u001b[38;5;124mMETRIC\u001b[39m\u001b[38;5;124m\"\u001b[39m]\u001b[38;5;241m.\u001b[39mstr[\u001b[38;5;241m2\u001b[39m:]\n\u001b[0;32m      4\u001b[0m \u001b[38;5;66;03m# No longer need metric col\u001b[39;00m\n",
      "File \u001b[1;32mc:\\Users\\762093\\Documents\\LIV\\liv_raw\\.venv\\Lib\\site-packages\\pandas\\core\\frame.py:4102\u001b[0m, in \u001b[0;36mDataFrame.__getitem__\u001b[1;34m(self, key)\u001b[0m\n\u001b[0;32m   4100\u001b[0m \u001b[38;5;28;01mif\u001b[39;00m \u001b[38;5;28mself\u001b[39m\u001b[38;5;241m.\u001b[39mcolumns\u001b[38;5;241m.\u001b[39mnlevels \u001b[38;5;241m>\u001b[39m \u001b[38;5;241m1\u001b[39m:\n\u001b[0;32m   4101\u001b[0m     \u001b[38;5;28;01mreturn\u001b[39;00m \u001b[38;5;28mself\u001b[39m\u001b[38;5;241m.\u001b[39m_getitem_multilevel(key)\n\u001b[1;32m-> 4102\u001b[0m indexer \u001b[38;5;241m=\u001b[39m \u001b[38;5;28;43mself\u001b[39;49m\u001b[38;5;241;43m.\u001b[39;49m\u001b[43mcolumns\u001b[49m\u001b[38;5;241;43m.\u001b[39;49m\u001b[43mget_loc\u001b[49m\u001b[43m(\u001b[49m\u001b[43mkey\u001b[49m\u001b[43m)\u001b[49m\n\u001b[0;32m   4103\u001b[0m \u001b[38;5;28;01mif\u001b[39;00m is_integer(indexer):\n\u001b[0;32m   4104\u001b[0m     indexer \u001b[38;5;241m=\u001b[39m [indexer]\n",
      "File \u001b[1;32mc:\\Users\\762093\\Documents\\LIV\\liv_raw\\.venv\\Lib\\site-packages\\pandas\\core\\indexes\\base.py:3812\u001b[0m, in \u001b[0;36mIndex.get_loc\u001b[1;34m(self, key)\u001b[0m\n\u001b[0;32m   3807\u001b[0m     \u001b[38;5;28;01mif\u001b[39;00m \u001b[38;5;28misinstance\u001b[39m(casted_key, \u001b[38;5;28mslice\u001b[39m) \u001b[38;5;129;01mor\u001b[39;00m (\n\u001b[0;32m   3808\u001b[0m         \u001b[38;5;28misinstance\u001b[39m(casted_key, abc\u001b[38;5;241m.\u001b[39mIterable)\n\u001b[0;32m   3809\u001b[0m         \u001b[38;5;129;01mand\u001b[39;00m \u001b[38;5;28many\u001b[39m(\u001b[38;5;28misinstance\u001b[39m(x, \u001b[38;5;28mslice\u001b[39m) \u001b[38;5;28;01mfor\u001b[39;00m x \u001b[38;5;129;01min\u001b[39;00m casted_key)\n\u001b[0;32m   3810\u001b[0m     ):\n\u001b[0;32m   3811\u001b[0m         \u001b[38;5;28;01mraise\u001b[39;00m InvalidIndexError(key)\n\u001b[1;32m-> 3812\u001b[0m     \u001b[38;5;28;01mraise\u001b[39;00m \u001b[38;5;167;01mKeyError\u001b[39;00m(key) \u001b[38;5;28;01mfrom\u001b[39;00m\u001b[38;5;250m \u001b[39m\u001b[38;5;21;01merr\u001b[39;00m\n\u001b[0;32m   3813\u001b[0m \u001b[38;5;28;01mexcept\u001b[39;00m \u001b[38;5;167;01mTypeError\u001b[39;00m:\n\u001b[0;32m   3814\u001b[0m     \u001b[38;5;66;03m# If we have a listlike key, _check_indexing_error will raise\u001b[39;00m\n\u001b[0;32m   3815\u001b[0m     \u001b[38;5;66;03m#  InvalidIndexError. Otherwise we fall through and re-raise\u001b[39;00m\n\u001b[0;32m   3816\u001b[0m     \u001b[38;5;66;03m#  the TypeError.\u001b[39;00m\n\u001b[0;32m   3817\u001b[0m     \u001b[38;5;28mself\u001b[39m\u001b[38;5;241m.\u001b[39m_check_indexing_error(key)\n",
      "\u001b[1;31mKeyError\u001b[0m: 'METRIC'"
     ]
    }
   ],
   "source": [
    "# Splitting the Metric column into two cols based on the first two characters\n",
    "df[\"MEASUREMENT\"] = df[\"METRIC\"].str[:2]\n",
    "df[\"CURRENT_MA\"] = df[\"METRIC\"].str[2:]\n",
    "# No longer need metric col\n",
    "df = df.drop(columns=[\"METRIC\"])"
   ]
  },
  {
   "cell_type": "code",
   "execution_count": 10,
   "metadata": {},
   "outputs": [
    {
     "data": {
      "text/html": [
       "<div>\n",
       "<style scoped>\n",
       "    .dataframe tbody tr th:only-of-type {\n",
       "        vertical-align: middle;\n",
       "    }\n",
       "\n",
       "    .dataframe tbody tr th {\n",
       "        vertical-align: top;\n",
       "    }\n",
       "\n",
       "    .dataframe thead th {\n",
       "        text-align: right;\n",
       "    }\n",
       "</style>\n",
       "<table border=\"1\" class=\"dataframe\">\n",
       "  <thead>\n",
       "    <tr style=\"text-align: right;\">\n",
       "      <th></th>\n",
       "      <th>TOUCHDOWN</th>\n",
       "      <th>STX_WAFER_X_UM</th>\n",
       "      <th>STX_WAFER_Y_UM</th>\n",
       "      <th>CUBE</th>\n",
       "      <th>CHANNEL_NUM</th>\n",
       "      <th>PD_MW</th>\n",
       "      <th>CURRENT_MA</th>\n",
       "    </tr>\n",
       "  </thead>\n",
       "  <tbody>\n",
       "    <tr>\n",
       "      <th>106260</th>\n",
       "      <td>1</td>\n",
       "      <td>-32339</td>\n",
       "      <td>-48416</td>\n",
       "      <td>64</td>\n",
       "      <td>1</td>\n",
       "      <td>0.172598</td>\n",
       "      <td>1</td>\n",
       "    </tr>\n",
       "    <tr>\n",
       "      <th>106261</th>\n",
       "      <td>2</td>\n",
       "      <td>-32083</td>\n",
       "      <td>-48449</td>\n",
       "      <td>64</td>\n",
       "      <td>1</td>\n",
       "      <td>0.166555</td>\n",
       "      <td>1</td>\n",
       "    </tr>\n",
       "    <tr>\n",
       "      <th>106262</th>\n",
       "      <td>3</td>\n",
       "      <td>-31826</td>\n",
       "      <td>-48482</td>\n",
       "      <td>64</td>\n",
       "      <td>1</td>\n",
       "      <td>0.166555</td>\n",
       "      <td>1</td>\n",
       "    </tr>\n",
       "    <tr>\n",
       "      <th>106263</th>\n",
       "      <td>4</td>\n",
       "      <td>-31569</td>\n",
       "      <td>-48416</td>\n",
       "      <td>64</td>\n",
       "      <td>1</td>\n",
       "      <td>0.168066</td>\n",
       "      <td>1</td>\n",
       "    </tr>\n",
       "    <tr>\n",
       "      <th>106264</th>\n",
       "      <td>5</td>\n",
       "      <td>-31313</td>\n",
       "      <td>-48449</td>\n",
       "      <td>64</td>\n",
       "      <td>1</td>\n",
       "      <td>0.155979</td>\n",
       "      <td>1</td>\n",
       "    </tr>\n",
       "  </tbody>\n",
       "</table>\n",
       "</div>"
      ],
      "text/plain": [
       "        TOUCHDOWN  STX_WAFER_X_UM  STX_WAFER_Y_UM  CUBE  CHANNEL_NUM  \\\n",
       "106260          1          -32339          -48416    64            1   \n",
       "106261          2          -32083          -48449    64            1   \n",
       "106262          3          -31826          -48482    64            1   \n",
       "106263          4          -31569          -48416    64            1   \n",
       "106264          5          -31313          -48449    64            1   \n",
       "\n",
       "           PD_MW CURRENT_MA  \n",
       "106260  0.172598          1  \n",
       "106261  0.166555          1  \n",
       "106262  0.166555          1  \n",
       "106263  0.168066          1  \n",
       "106264  0.155979          1  "
      ]
     },
     "execution_count": 10,
     "metadata": {},
     "output_type": "execute_result"
    }
   ],
   "source": [
    "## Split by the measurement column\n",
    "pd = df[df[\"MEASUREMENT\"] == \"PD\"]\n",
    "pd = pd.rename(columns={\"value\": \"PD_MW\"})\n",
    "pd = pd.drop(columns=[\"MEASUREMENT\"])\n",
    "pd.head()"
   ]
  },
  {
   "cell_type": "code",
   "execution_count": 11,
   "metadata": {},
   "outputs": [
    {
     "data": {
      "text/html": [
       "<div>\n",
       "<style scoped>\n",
       "    .dataframe tbody tr th:only-of-type {\n",
       "        vertical-align: middle;\n",
       "    }\n",
       "\n",
       "    .dataframe tbody tr th {\n",
       "        vertical-align: top;\n",
       "    }\n",
       "\n",
       "    .dataframe thead th {\n",
       "        text-align: right;\n",
       "    }\n",
       "</style>\n",
       "<table border=\"1\" class=\"dataframe\">\n",
       "  <thead>\n",
       "    <tr style=\"text-align: right;\">\n",
       "      <th></th>\n",
       "      <th>TOUCHDOWN</th>\n",
       "      <th>STX_WAFER_X_UM</th>\n",
       "      <th>STX_WAFER_Y_UM</th>\n",
       "      <th>CUBE</th>\n",
       "      <th>CHANNEL_NUM</th>\n",
       "      <th>VF</th>\n",
       "      <th>CURRENT_MA</th>\n",
       "    </tr>\n",
       "  </thead>\n",
       "  <tbody>\n",
       "    <tr>\n",
       "      <th>0</th>\n",
       "      <td>1</td>\n",
       "      <td>-32339</td>\n",
       "      <td>-48416</td>\n",
       "      <td>64</td>\n",
       "      <td>1</td>\n",
       "      <td>1.366367</td>\n",
       "      <td>1</td>\n",
       "    </tr>\n",
       "    <tr>\n",
       "      <th>1</th>\n",
       "      <td>2</td>\n",
       "      <td>-32083</td>\n",
       "      <td>-48449</td>\n",
       "      <td>64</td>\n",
       "      <td>1</td>\n",
       "      <td>1.366444</td>\n",
       "      <td>1</td>\n",
       "    </tr>\n",
       "    <tr>\n",
       "      <th>2</th>\n",
       "      <td>3</td>\n",
       "      <td>-31826</td>\n",
       "      <td>-48482</td>\n",
       "      <td>64</td>\n",
       "      <td>1</td>\n",
       "      <td>1.366831</td>\n",
       "      <td>1</td>\n",
       "    </tr>\n",
       "    <tr>\n",
       "      <th>3</th>\n",
       "      <td>4</td>\n",
       "      <td>-31569</td>\n",
       "      <td>-48416</td>\n",
       "      <td>64</td>\n",
       "      <td>1</td>\n",
       "      <td>1.366792</td>\n",
       "      <td>1</td>\n",
       "    </tr>\n",
       "    <tr>\n",
       "      <th>4</th>\n",
       "      <td>5</td>\n",
       "      <td>-31313</td>\n",
       "      <td>-48449</td>\n",
       "      <td>64</td>\n",
       "      <td>1</td>\n",
       "      <td>1.367333</td>\n",
       "      <td>1</td>\n",
       "    </tr>\n",
       "  </tbody>\n",
       "</table>\n",
       "</div>"
      ],
      "text/plain": [
       "   TOUCHDOWN  STX_WAFER_X_UM  STX_WAFER_Y_UM  CUBE  CHANNEL_NUM        VF  \\\n",
       "0          1          -32339          -48416    64            1  1.366367   \n",
       "1          2          -32083          -48449    64            1  1.366444   \n",
       "2          3          -31826          -48482    64            1  1.366831   \n",
       "3          4          -31569          -48416    64            1  1.366792   \n",
       "4          5          -31313          -48449    64            1  1.367333   \n",
       "\n",
       "  CURRENT_MA  \n",
       "0          1  \n",
       "1          1  \n",
       "2          1  \n",
       "3          1  \n",
       "4          1  "
      ]
     },
     "execution_count": 11,
     "metadata": {},
     "output_type": "execute_result"
    }
   ],
   "source": [
    "vf = df[df[\"MEASUREMENT\"] == \"Vf\"]\n",
    "vf = vf.rename(columns={\"value\": \"VF\"})\n",
    "vf = vf.drop(columns=[\"MEASUREMENT\"])\n",
    "vf.head()"
   ]
  },
  {
   "cell_type": "code",
   "execution_count": 12,
   "metadata": {},
   "outputs": [],
   "source": [
    "df = vf.merge(pd)\n",
    "df = df.iloc[:, [0, 1, 2, 4, 3, 6, 5, 7]]"
   ]
  },
  {
   "cell_type": "code",
   "execution_count": 13,
   "metadata": {},
   "outputs": [],
   "source": [
    "# Change Current col to integer datatype\n",
    "df[\"CURRENT_MA\"] = df[\"CURRENT_MA\"].astype(\"int64\")\n",
    "# Delete Existing Cube Col\n",
    "df = df.drop(columns=[\"CUBE\"])"
   ]
  },
  {
   "cell_type": "code",
   "execution_count": 14,
   "metadata": {},
   "outputs": [],
   "source": [
    "df = df.merge(sd, on=[\"STX_WAFER_X_UM\", \"STX_WAFER_Y_UM\"])"
   ]
  },
  {
   "cell_type": "code",
   "execution_count": 15,
   "metadata": {},
   "outputs": [
    {
     "data": {
      "text/html": [
       "<div>\n",
       "<style scoped>\n",
       "    .dataframe tbody tr th:only-of-type {\n",
       "        vertical-align: middle;\n",
       "    }\n",
       "\n",
       "    .dataframe tbody tr th {\n",
       "        vertical-align: top;\n",
       "    }\n",
       "\n",
       "    .dataframe thead th {\n",
       "        text-align: right;\n",
       "    }\n",
       "</style>\n",
       "<table border=\"1\" class=\"dataframe\">\n",
       "  <thead>\n",
       "    <tr style=\"text-align: right;\">\n",
       "      <th></th>\n",
       "      <th>TOUCHDOWN</th>\n",
       "      <th>STX_WAFER_X_UM</th>\n",
       "      <th>STX_WAFER_Y_UM</th>\n",
       "      <th>CHANNEL_NUM</th>\n",
       "      <th>CURRENT_MA</th>\n",
       "      <th>VF</th>\n",
       "      <th>PD_MW</th>\n",
       "      <th>CUBE</th>\n",
       "      <th>TE_LABEL</th>\n",
       "      <th>DL_DI</th>\n",
       "    </tr>\n",
       "  </thead>\n",
       "  <tbody>\n",
       "    <tr>\n",
       "      <th>0</th>\n",
       "      <td>1</td>\n",
       "      <td>-32339</td>\n",
       "      <td>-48416</td>\n",
       "      <td>1</td>\n",
       "      <td>1</td>\n",
       "      <td>1.366367</td>\n",
       "      <td>0.172598</td>\n",
       "      <td>64</td>\n",
       "      <td>64N6V</td>\n",
       "      <td>NaN</td>\n",
       "    </tr>\n",
       "    <tr>\n",
       "      <th>1</th>\n",
       "      <td>1</td>\n",
       "      <td>-32339</td>\n",
       "      <td>-48416</td>\n",
       "      <td>1</td>\n",
       "      <td>2</td>\n",
       "      <td>1.430014</td>\n",
       "      <td>0.174109</td>\n",
       "      <td>64</td>\n",
       "      <td>64N6V</td>\n",
       "      <td>0.001511</td>\n",
       "    </tr>\n",
       "    <tr>\n",
       "      <th>2</th>\n",
       "      <td>1</td>\n",
       "      <td>-32339</td>\n",
       "      <td>-48416</td>\n",
       "      <td>1</td>\n",
       "      <td>3</td>\n",
       "      <td>1.463484</td>\n",
       "      <td>0.172598</td>\n",
       "      <td>64</td>\n",
       "      <td>64N6V</td>\n",
       "      <td>-0.001511</td>\n",
       "    </tr>\n",
       "    <tr>\n",
       "      <th>3</th>\n",
       "      <td>1</td>\n",
       "      <td>-32339</td>\n",
       "      <td>-48416</td>\n",
       "      <td>1</td>\n",
       "      <td>4</td>\n",
       "      <td>1.487101</td>\n",
       "      <td>0.171087</td>\n",
       "      <td>64</td>\n",
       "      <td>64N6V</td>\n",
       "      <td>-0.001511</td>\n",
       "    </tr>\n",
       "    <tr>\n",
       "      <th>4</th>\n",
       "      <td>1</td>\n",
       "      <td>-32339</td>\n",
       "      <td>-48416</td>\n",
       "      <td>1</td>\n",
       "      <td>5</td>\n",
       "      <td>1.506158</td>\n",
       "      <td>0.171087</td>\n",
       "      <td>64</td>\n",
       "      <td>64N6V</td>\n",
       "      <td>0.000000</td>\n",
       "    </tr>\n",
       "  </tbody>\n",
       "</table>\n",
       "</div>"
      ],
      "text/plain": [
       "   TOUCHDOWN  STX_WAFER_X_UM  STX_WAFER_Y_UM  CHANNEL_NUM  CURRENT_MA  \\\n",
       "0          1          -32339          -48416            1           1   \n",
       "1          1          -32339          -48416            1           2   \n",
       "2          1          -32339          -48416            1           3   \n",
       "3          1          -32339          -48416            1           4   \n",
       "4          1          -32339          -48416            1           5   \n",
       "\n",
       "         VF     PD_MW  CUBE TE_LABEL     DL_DI  \n",
       "0  1.366367  0.172598    64    64N6V       NaN  \n",
       "1  1.430014  0.174109    64    64N6V  0.001511  \n",
       "2  1.463484  0.172598    64    64N6V -0.001511  \n",
       "3  1.487101  0.171087    64    64N6V -0.001511  \n",
       "4  1.506158  0.171087    64    64N6V  0.000000  "
      ]
     },
     "execution_count": 15,
     "metadata": {},
     "output_type": "execute_result"
    }
   ],
   "source": [
    "# Obtain the first derivative of PD\n",
    "df[\"DL_DI\"] = df[\"PD_MW\"].diff() / df[\"CURRENT_MA\"].diff()\n",
    "df.head()"
   ]
  },
  {
   "cell_type": "markdown",
   "metadata": {},
   "source": [
    "#### File Naming and Saving"
   ]
  },
  {
   "cell_type": "code",
   "execution_count": 16,
   "metadata": {},
   "outputs": [
    {
     "name": "stdout",
     "output_type": "stream",
     "text": [
      "File name : LIV_53_QCHW2_DNS-LIVTKCOD_COD70-DNS_sweeps.csv\n",
      "Full Path Directory : C:/Users/534399/OneDrive - Seagate Technology/Vadan/LIV Raw Files\\LIV_53_QCHW2_DNS-LIVTKCOD_COD70-DNS_sweeps.csv\n"
     ]
    }
   ],
   "source": [
    "### ----------------- File Naming and Saving -----------------------------\n",
    "\n",
    "# Create new file name with processed suffix\n",
    "file_path = os.path.basename(file_path).split(\".\")[0]\n",
    "file_path = file_path.rsplit(\"_\", 1)[0] + \"_sweeps.csv\"\n",
    "print(\"File name : {}\".format(file_path))\n",
    "## combine the diretory and new filename\n",
    "new_path = os.path.join(folder, file_path)\n",
    "print(\"Full Path Directory : {}\".format(new_path))"
   ]
  },
  {
   "cell_type": "code",
   "execution_count": 17,
   "metadata": {},
   "outputs": [],
   "source": [
    "mach = file_path[:6]\n",
    "lot_id = file_path[7:12]\n",
    "df[\"WAFER_ID\"] = lot_id\n",
    "df[\"MACH_ID\"] = mach"
   ]
  },
  {
   "cell_type": "code",
   "execution_count": 18,
   "metadata": {},
   "outputs": [],
   "source": [
    "# Write to the new path location, header first then append with data\n",
    "df.to_csv(new_path, index=False)"
   ]
  }
 ],
 "metadata": {
  "kernelspec": {
   "display_name": "Python 3",
   "language": "python",
   "name": "python3"
  },
  "language_info": {
   "codemirror_mode": {
    "name": "ipython",
    "version": 3
   },
   "file_extension": ".py",
   "mimetype": "text/x-python",
   "name": "python",
   "nbconvert_exporter": "python",
   "pygments_lexer": "ipython3",
   "version": "3.11.1"
  }
 },
 "nbformat": 4,
 "nbformat_minor": 2
}
