{
 "cells": [
  {
   "cell_type": "code",
   "execution_count": 2,
   "metadata": {},
   "outputs": [],
   "source": [
    "import pandas as pd\n",
    "import os\n",
    "import tkinter as tk\n",
    "from tkinter import filedialog"
   ]
  },
  {
   "cell_type": "code",
   "execution_count": 26,
   "metadata": {},
   "outputs": [
    {
     "name": "stdout",
     "output_type": "stream",
     "text": [
      "Directory : C:/Users/762093/Documents/LIV/liv_raw/LIV_Raw_Files\n"
     ]
    }
   ],
   "source": [
    "# Search for LIV Raw File\n",
    "root = tk.Tk()\n",
    "root.withdraw()\n",
    "root.lift()\n",
    "root.attributes(\"-topmost\", True)\n",
    "file_path = filedialog.askopenfilename(title=\"Select COD File\", filetypes=((\"csv files\", \"*.csv\"),))\n",
    "df = pd.read_csv(file_path, skiprows=19)\n",
    "folder = os.path.dirname(file_path)\n",
    "print(\"Directory : {}\".format(folder))"
   ]
  }
 ],
 "metadata": {
  "kernelspec": {
   "display_name": "Python 3",
   "language": "python",
   "name": "python3"
  },
  "language_info": {
   "codemirror_mode": {
    "name": "ipython",
    "version": 3
   },
   "file_extension": ".py",
   "mimetype": "text/x-python",
   "name": "python",
   "nbconvert_exporter": "python",
   "pygments_lexer": "ipython3",
   "version": "3.11.1"
  }
 },
 "nbformat": 4,
 "nbformat_minor": 2
}
